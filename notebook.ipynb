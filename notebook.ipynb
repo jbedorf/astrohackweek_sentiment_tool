{
 "cells": [
  {
   "cell_type": "markdown",
   "metadata": {},
   "source": [
    "# GitHub comments sentiment analysis\n",
    "\n",
    "Example of how to combine the public (free) APIs from GitHub and Google to analyse the sentiment (positive or negative) of comments placed at pull requests.\n",
    "\n",
    "Requirements:\n",
    "- Google cloud package: pip install google-cloud\n",
    "- Python 3.6\n"
   ]
  },
  {
   "cell_type": "markdown",
   "metadata": {},
   "source": [
    "## Used packages"
   ]
  },
  {
   "cell_type": "code",
   "execution_count": null,
   "metadata": {},
   "outputs": [],
   "source": [
    "from google.cloud import language\n",
    "import json\n",
    "import os\n",
    "import pprint\n",
    "import urllib.request\n",
    "from IPython.display import display, Markdown  # Used to get some fancier looking output"
   ]
  },
  {
   "cell_type": "markdown",
   "metadata": {},
   "source": [
    "## Configuration settings"
   ]
  },
  {
   "cell_type": "code",
   "execution_count": null,
   "metadata": {},
   "outputs": [],
   "source": [
    "url = \"https://api.github.com/repos/\" # GitHub API entree point\n",
    "owner = \"astropy\"                     # Repository owner\n",
    "repo = \"astropy\"                      # Repository name\n",
    "number = \"7712\"                       # Pull request number\n",
    "req_type = \"comments\"                 # Either comments or review, see: \n",
    "#https://api.github.com/repos/astropy/astropy/pulls/7712/review\n",
    "\n",
    "# Set the path to your Google API credentials in the environment, see: \n",
    "os.environ[\"GOOGLE_APPLICATION_CREDENTIALS\"] = \"<path to credentials.json>\""
   ]
  },
  {
   "cell_type": "markdown",
   "metadata": {},
   "source": [
    "## Actual code\n",
    "\n",
    "### Load some comments from GitHub using the REST API"
   ]
  },
  {
   "cell_type": "code",
   "execution_count": null,
   "metadata": {},
   "outputs": [],
   "source": [
    "url_full = f\"{url}{owner}/{repo}/pulls/{number}/{req_type}\" # Build the request URL\n",
    "contents = urllib.request.urlopen(url_full).read()\n",
    "github_data = json.loads(contents)"
   ]
  },
  {
   "cell_type": "markdown",
   "metadata": {},
   "source": [
    "### Convert the comments into a Document, the document will be send to the Google API"
   ]
  },
  {
   "cell_type": "code",
   "execution_count": null,
   "metadata": {},
   "outputs": [],
   "source": [
    "documents = []\n",
    "for comment in github_data:\n",
    "    #print(comment['user']['login'])  # The username of the person who posted the comment\n",
    "    #TODO strip the comment from special characters\n",
    "    documents.append(language.types.Document(content=comment['body'], type='PLAIN_TEXT',))"
   ]
  },
  {
   "cell_type": "markdown",
   "metadata": {},
   "source": [
    "### For every comment query the Google API and request the sentiment of the comment"
   ]
  },
  {
   "cell_type": "code",
   "execution_count": null,
   "metadata": {},
   "outputs": [],
   "source": [
    "google_client = language.LanguageServiceClient( )\n",
    "results = []\n",
    "for doc in documents:\n",
    "    results.append(google_client.analyze_sentiment(document=doc, encoding_type='UTF32',))"
   ]
  },
  {
   "cell_type": "markdown",
   "metadata": {},
   "source": [
    "### Print the results \n",
    "\n",
    "**score** of the sentiment ranges between -1.0 (negative) and 1.0 (positive) and corresponds to the overall emotional leaning of the text.\n",
    "\n",
    "**magnitude** indicates the overall strength of emotion (both positive and negative) within the given text, between 0.0 and +inf. Unlike score, magnitude is not normalized; each expression of emotion within the text (both positive and negative) contributes to the text's magnitude (so longer text blocks may have greater magnitudes)."
   ]
  },
  {
   "cell_type": "code",
   "execution_count": null,
   "metadata": {},
   "outputs": [],
   "source": [
    "for r in results:\n",
    "    text = \"---\\n\"\n",
    "    text += r.sentences[0].text.content\n",
    "    text += \"\\n\\n**Score:** {} **Magnitude: {}**\\n\\n\"\n",
    "    text = text.format(round(r.document_sentiment.score,2), round(r.document_sentiment.magnitude,2))\n",
    "    display(Markdown(text))    "
   ]
  },
  {
   "cell_type": "code",
   "execution_count": null,
   "metadata": {},
   "outputs": [],
   "source": []
  },
  {
   "cell_type": "code",
   "execution_count": null,
   "metadata": {},
   "outputs": [],
   "source": []
  }
 ],
 "metadata": {
  "kernelspec": {
   "display_name": "Python 3",
   "language": "python",
   "name": "python3"
  },
  "language_info": {
   "codemirror_mode": {
    "name": "ipython",
    "version": 3
   },
   "file_extension": ".py",
   "mimetype": "text/x-python",
   "name": "python",
   "nbconvert_exporter": "python",
   "pygments_lexer": "ipython3",
   "version": "3.6.3"
  }
 },
 "nbformat": 4,
 "nbformat_minor": 2
}
